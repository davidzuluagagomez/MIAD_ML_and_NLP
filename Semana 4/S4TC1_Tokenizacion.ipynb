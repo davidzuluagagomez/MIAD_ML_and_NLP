{
 "cells": [
  {
   "cell_type": "markdown",
   "metadata": {},
   "source": [
    "\n",
    "![image info](https://raw.githubusercontent.com/albahnsen/MIAD_ML_and_NLP/main/images/banner_1.png)"
   ]
  },
  {
   "cell_type": "markdown",
   "metadata": {},
   "source": [
    "# Taller: Tokenización de textos  \n",
    "\n",
    "En este taller podrán poner en práctica sus conocimientos sobre preprocesamiento de texto (tokenización). El taller está constituido por 5 puntos, en los cuales deberan seguir las intrucciones de cada numeral para su desarrollo."
   ]
  },
  {
   "cell_type": "markdown",
   "metadata": {},
   "source": [
    "## Datos detección de toxicidad en comentarios\n",
    "\n",
    "En este taller se usará el conjunto de datos de detección de toxicidad en comentarios de la base de datos de Kaggle. Cada observación es un comentario que tiene como variable objetivo (target) la probabilidad de ser un comentario tóxico. El objetivo es predecir la toxicidad de cada comentario. Para más detalles pueden visitar el siguiente enlace: [datos](https://www.kaggle.com/c/jigsaw-unintended-bias-in-toxicity-classification/data)."
   ]
  },
  {
   "cell_type": "code",
   "execution_count": 3,
   "metadata": {},
   "outputs": [],
   "source": [
    "import warnings\n",
    "warnings.filterwarnings('ignore')"
   ]
  },
  {
   "cell_type": "code",
   "execution_count": 4,
   "metadata": {},
   "outputs": [],
   "source": [
    "# Importación librerías\n",
    "import pandas as pd\n",
    "import numpy as np\n",
    "import scipy as sp\n",
    "from sklearn.model_selection import train_test_split, cross_val_score\n",
    "from sklearn.feature_extraction.text import CountVectorizer, TfidfVectorizer\n",
    "from sklearn import metrics\n",
    "import random  as random\n",
    "%matplotlib inline"
   ]
  },
  {
   "cell_type": "code",
   "execution_count": 5,
   "metadata": {},
   "outputs": [
    {
     "data": {
      "text/html": [
       "<div>\n",
       "<style scoped>\n",
       "    .dataframe tbody tr th:only-of-type {\n",
       "        vertical-align: middle;\n",
       "    }\n",
       "\n",
       "    .dataframe tbody tr th {\n",
       "        vertical-align: top;\n",
       "    }\n",
       "\n",
       "    .dataframe thead th {\n",
       "        text-align: right;\n",
       "    }\n",
       "</style>\n",
       "<table border=\"1\" class=\"dataframe\">\n",
       "  <thead>\n",
       "    <tr style=\"text-align: right;\">\n",
       "      <th></th>\n",
       "      <th>id</th>\n",
       "      <th>comment_text</th>\n",
       "      <th>target</th>\n",
       "    </tr>\n",
       "  </thead>\n",
       "  <tbody>\n",
       "    <tr>\n",
       "      <th>0</th>\n",
       "      <td>6101457</td>\n",
       "      <td>What are you talking about? What group do Pete...</td>\n",
       "      <td>0.0</td>\n",
       "    </tr>\n",
       "    <tr>\n",
       "      <th>1</th>\n",
       "      <td>5342103</td>\n",
       "      <td>NO!, Let him, we need a Conservative government.</td>\n",
       "      <td>0.0</td>\n",
       "    </tr>\n",
       "    <tr>\n",
       "      <th>2</th>\n",
       "      <td>743361</td>\n",
       "      <td>Perhaps he took the \"power out of the Cardinal...</td>\n",
       "      <td>0.2</td>\n",
       "    </tr>\n",
       "    <tr>\n",
       "      <th>3</th>\n",
       "      <td>551008</td>\n",
       "      <td>As always, yours is dripping with sarcasm, whi...</td>\n",
       "      <td>0.0</td>\n",
       "    </tr>\n",
       "    <tr>\n",
       "      <th>4</th>\n",
       "      <td>865998</td>\n",
       "      <td>The dirty little secret is that the price rang...</td>\n",
       "      <td>0.3</td>\n",
       "    </tr>\n",
       "  </tbody>\n",
       "</table>\n",
       "</div>"
      ],
      "text/plain": [
       "        id                                       comment_text  target\n",
       "0  6101457  What are you talking about? What group do Pete...     0.0\n",
       "1  5342103   NO!, Let him, we need a Conservative government.     0.0\n",
       "2   743361  Perhaps he took the \"power out of the Cardinal...     0.2\n",
       "3   551008  As always, yours is dripping with sarcasm, whi...     0.0\n",
       "4   865998  The dirty little secret is that the price rang...     0.3"
      ]
     },
     "execution_count": 5,
     "metadata": {},
     "output_type": "execute_result"
    }
   ],
   "source": [
    "# Carga de datos de archivos .csv\n",
    "df = pd.read_csv('https://raw.githubusercontent.com/albahnsen/MIAD_ML_and_NLP/main/datasets/Toxicity.zip')\n",
    "df = df[['id','comment_text', 'target']]\n",
    "df.head()"
   ]
  },
  {
   "cell_type": "code",
   "execution_count": 53,
   "metadata": {
    "scrolled": true
   },
   "outputs": [
    {
     "data": {
      "text/plain": [
       "<matplotlib.axes._subplots.AxesSubplot at 0x7f672e6ccc10>"
      ]
     },
     "execution_count": 53,
     "metadata": {},
     "output_type": "execute_result"
    },
    {
     "data": {
      "image/png": "[encoded data removed]",
      "text/plain": [
       "<Figure size 432x288 with 1 Axes>"
      ]
     },
     "metadata": {
      "needs_background": "light"
     },
     "output_type": "display_data"
    }
   ],
   "source": [
    "# Impresión histograma de variable de interés (y)\n",
    "df.target.hist()"
   ]
  },
  {
   "cell_type": "markdown",
   "metadata": {},
   "source": [
    "Debido a las limitaciones de nuestros computadores, se hace un muestreo aleatorio simple (MAS) en la base original, para realizar el ejercicio y reducir el tiempo y el costo computacional de la ejecución, además se decide trabajar con 800 el parametro de max_features en los tres modelos ejecutados ya que este número nos daba resultados aceptables y no es tan costoso. "
   ]
  },
  {
   "cell_type": "code",
   "execution_count": 6,
   "metadata": {},
   "outputs": [],
   "source": [
    "df_muestra = df.sample(n = 100000, random_state = 1)"
   ]
  },
  {
   "cell_type": "code",
   "execution_count": 7,
   "metadata": {},
   "outputs": [
    {
     "data": {
      "text/plain": [
       "count    100000.000000\n",
       "mean          0.103115\n",
       "std           0.197427\n",
       "min           0.000000\n",
       "25%           0.000000\n",
       "50%           0.000000\n",
       "75%           0.166667\n",
       "max           1.000000\n",
       "Name: target, dtype: float64"
      ]
     },
     "execution_count": 7,
     "metadata": {},
     "output_type": "execute_result"
    }
   ],
   "source": [
    "# Separación de variable de interés (y)\n",
    "y = df_muestra.target\n",
    "y.describe()"
   ]
  },
  {
   "cell_type": "code",
   "execution_count": 8,
   "metadata": {},
   "outputs": [],
   "source": [
    "# Separación de variables predictoras (X), solo se considera el texto de la noticia\n",
    "X = df_muestra.comment_text"
   ]
  },
  {
   "cell_type": "code",
   "execution_count": 9,
   "metadata": {},
   "outputs": [],
   "source": [
    "# Separación de datos en set de entrenamiento y test\n",
    "X_train, X_test, y_train, y_test = train_test_split(X, y, test_size = 0.33, random_state = 42)"
   ]
  },
  {
   "cell_type": "markdown",
   "metadata": {},
   "source": [
    "## Punto 1 - Tokenización con CountVectorizer\n",
    "\n",
    "En la celda 1 creen y entrenen el modelo de regresión de su preferencia, para que prediga la probabilidad de que un comentario sea tóxico, usando los set de entrenamiento y test definidos anteriormente. Usen la función **CountVectorizer** para preprocesar los comentarios y presenten el desempeño del modelo con la métrica del MSE.\n",
    "\n",
    "Recuerden que el preprocesamiento que se haga sobre los datos de entrenamiento  (*.fit_transform()*) deben ser aplicado al set de test (*.transform()*)."
   ]
  },
  {
   "cell_type": "code",
   "execution_count": 59,
   "metadata": {},
   "outputs": [],
   "source": [
    "# Vamos a volver todos los datos en minuscula, vamos a quitar palabras en ingles tipo and, them. \n",
    "## tambien vamos a ignorar errores del encoding, quitaremos signos de punturacion y esas cosas debido a que estamos en ingles y eso seria un error\n",
    "# agregamos el parametro max_features que limita la cantidad de palabras a usar, en este caso colocaremos 8000\n",
    "vect_A = CountVectorizer(lowercase=True, decode_error='ignore', strip_accents='ascii', max_features = 800, stop_words='english')\n",
    "X_dtm_A = vect_A.fit_transform(X_train)\n",
    "X_dtm_A_test = vect_A.transform(X_test)"
   ]
  },
  {
   "cell_type": "code",
   "execution_count": 60,
   "metadata": {},
   "outputs": [
    {
     "data": {
      "text/plain": [
       "(67000, 800)"
      ]
     },
     "execution_count": 60,
     "metadata": {},
     "output_type": "execute_result"
    }
   ],
   "source": [
    "# Impresión dimensiones de matriz de documentos donde las filas son documentos y las columnas son términos o tokens\n",
    "X_dtm_A.shape"
   ]
  },
  {
   "cell_type": "code",
   "execution_count": 61,
   "metadata": {
    "scrolled": true
   },
   "outputs": [
    {
     "name": "stdout",
     "output_type": "stream",
     "text": [
      "['risk', 'road', 'room', 'rule', 'rules', 'run', 'running', 'russia', 'russian', 'sad', 'safe', 'safety', 'said', 'sales', 'save', 'saw', 'say', 'saying', 'says', 'school', 'schools', 'science', 'second', 'sector', 'security', 'seen', 'self', 'sell', 'senate', 'sense', 'seriously', 'service', 'services', 'set', 'sex', 'sexual', 'share', 'short', 'shot', 'shouldn', 'shows', 'similar', 'simple', 'simply', 'single', 'situation', 'small', 'social', 'society', 'solution', 'soon', 'sorry', 'sort', 'sound', 'sounds', 'source', 'south', 'speak', 'special', 'speech', 'spend', 'spending', 'spent', 'staff', 'stand', 'start', 'started', 'state', 'statement', 'states', 'stay', 'step', 'stop', 'story', 'street', 'strong', 'students', 'study', 'stuff', 'stupid', 'subject', 'suggest', 'support', 'supporters', 'supposed', 'sure', 'taken', 'takes', 'taking', 'talk', 'talking', 'tax', 'taxes', 'taxpayers', 'team', 'tell', 'term', 'thank', 'thanks', 'thing']\n"
     ]
    }
   ],
   "source": [
    "print(vect_A.get_feature_names()[-200:-100])"
   ]
  },
  {
   "cell_type": "code",
   "execution_count": 62,
   "metadata": {},
   "outputs": [
    {
     "name": "stdout",
     "output_type": "stream",
     "text": [
      "0.03833294814013485\n"
     ]
    }
   ],
   "source": [
    "# Celda 4\n",
    "from sklearn.ensemble import RandomForestRegressor\n",
    "from sklearn.model_selection import cross_val_score\n",
    "import numpy as np\n",
    "\n",
    "# Definición de modelo Random Forest para un problema de clasificación\n",
    "modelo_rf = RandomForestRegressor()\n",
    "# Predicción y desempeño al hacer votación mayoritaria\n",
    "modelo_rf.fit(X_dtm_A, y_train)\n",
    "y_pred = modelo_rf.predict(X_dtm_A_test)\n",
    "\n",
    "modelo1 = metrics.mean_squared_error(y_test, y_pred)\n",
    "print(metrics.mean_squared_error(y_test, y_pred)) "
   ]
  },
  {
   "cell_type": "markdown",
   "metadata": {},
   "source": [
    "## Punto 2 - Tokenización con CountVectorizer y trigramas\n",
    "\n",
    "En la celda 2 creen y entrenen el mismo modelo de regresión del punto anterior (es decir si usaron un RandomForestRegresor usen nuevamente ese regresor), para que prediga la probabilidad de que un comentario sea tóxico, usando los set de entrenamiento y test definidos anteriormente. Usen la función CountVectorizer **considerando trigramas** para preprocesar los comentarios y presenten el desempeño del modelo con la métrica del MSE.\n",
    "\n",
    "Recuerden que el preprocesamiento que se haga sobre los datos de entrenamiento  (*.fit_transform()*) deben ser aplicado al set de test (*.transform()*)."
   ]
  },
  {
   "cell_type": "code",
   "execution_count": 63,
   "metadata": {},
   "outputs": [],
   "source": [
    "# Celda 2\n",
    "# Vamos a volver todos los datos en minuscula, vamos a quitar palabras en ingles tipo and, them. \n",
    "## tambien vamos a ignorar errores del encoding, quitaremos signos de punturacion y esas cosas debido a que estamos en ingles y eso seria un error\n",
    "# agregamos el parametro min_df para quitar las palabras que se repiten menos de 10 veces en el analisis \n",
    "vect_B = CountVectorizer(lowercase = True, decode_error = 'ignore', strip_accents = 'ascii',  stop_words = 'english', ngram_range=(1, 3),\n",
    "                        max_features = 800)\n",
    "X_dtm_B = vect_B.fit_transform(X_train)\n",
    "X_dtm_B_test = vect_B.transform(X_test)\n"
   ]
  },
  {
   "cell_type": "code",
   "execution_count": 64,
   "metadata": {},
   "outputs": [
    {
     "data": {
      "text/plain": [
       "(67000, 800)"
      ]
     },
     "execution_count": 64,
     "metadata": {},
     "output_type": "execute_result"
    }
   ],
   "source": [
    "# Impresión dimensiones de matriz de documentos donde las filas son documentos y las columnas son términos o tokens\n",
    "X_dtm_B.shape"
   ]
  },
  {
   "cell_type": "code",
   "execution_count": 65,
   "metadata": {},
   "outputs": [
    {
     "name": "stdout",
     "output_type": "stream",
     "text": [
      "['risk', 'road', 'room', 'rule', 'rules', 'run', 'running', 'russia', 'russian', 'sad', 'safe', 'safety', 'said', 'sales', 'save', 'saw', 'say', 'saying', 'says', 'school', 'schools', 'science', 'second', 'security', 'seen', 'self', 'sell', 'senate', 'sense', 'seriously', 'service', 'services', 'set', 'sex', 'sexual', 'share', 'short', 'shot', 'shouldn', 'shows', 'similar', 'simple', 'simply', 'single', 'situation', 'small', 'social', 'society', 'solution', 'soon', 'sorry', 'sort', 'sound', 'sounds', 'sounds like', 'source', 'south', 'speak', 'special', 'speech', 'spend', 'spending', 'spent', 'staff', 'stand', 'start', 'started', 'state', 'statement', 'states', 'stay', 'step', 'stop', 'story', 'street', 'strong', 'students', 'study', 'stuff', 'stupid', 'subject', 'suggest', 'support', 'supporters', 'supposed', 'sure', 'taken', 'takes', 'taking', 'talk', 'talking', 'tax', 'taxes', 'taxpayers', 'team', 'tell', 'term', 'thank', 'thanks', 'thing']\n"
     ]
    }
   ],
   "source": [
    "print(vect_B.get_feature_names()[-200:-100])"
   ]
  },
  {
   "cell_type": "code",
   "execution_count": 66,
   "metadata": {},
   "outputs": [
    {
     "name": "stdout",
     "output_type": "stream",
     "text": [
      "0.03839163653999405\n"
     ]
    }
   ],
   "source": [
    "# Celda 4\n",
    "from sklearn.ensemble import RandomForestRegressor\n",
    "from sklearn.model_selection import cross_val_score\n",
    "import numpy as np\n",
    "\n",
    "# Definición de modelo Random Forest para un problema de clasificación\n",
    "modelo_rf = RandomForestRegressor()\n",
    "# Predicción y desempeño al hacer votación mayoritaria\n",
    "modelo_rf.fit(X_dtm_B, y_train)\n",
    "y_pred = modelo_rf.predict(X_dtm_B_test)\n",
    "\n",
    "modelo2 = metrics.mean_squared_error(y_test, y_pred)\n",
    "print(metrics.mean_squared_error(y_test, y_pred))\n",
    "\n",
    "#nb = MultinomialNB() 0.0325\n",
    "#pd.Series(cross_val_score(nb, X_dtm_A, y, cv=10)).describe()"
   ]
  },
  {
   "cell_type": "markdown",
   "metadata": {},
   "source": [
    "## Punto 3 - TfidfVectorizer\n",
    "\n",
    "Investigen sobre la función TfidfVectorizer. En la celda de texto 3, expliquen en qué consiste esta técnica de tokenización (describanla y expliquen su funcionamiento) y cúales son las ventajas o deventajas de su uso al compararlo con la función CountVectorizer."
   ]
  },
  {
   "cell_type": "markdown",
   "metadata": {},
   "source": [
    "#Celda 3\n",
    "\n",
    "La función TfidfVectorizer lo que hace es calcular la frecuencia de las palabras, no hacer un recuento de estas como lo hace la funcion CountVectorizer, esta función usa el método TF-IDF. Este es un acrónimo que significa Frecuencia de Término – Frecuencia Inversa de Documento que son los componentes de las puntuaciones resultantes asignadas a cada palabra según su frecuencia de participación en cada observación. Estos terminos se describen de la siguiente manera: \n",
    "\n",
    "- *Término Frecuencia:* Esto resume la frecuencia con la que una palabra dada aparece dentro de un documento.\n",
    "- *Frecuencia inversa de documentos:* Esto reduce la escala de las palabras que aparecen mucho en los documentos.\n",
    "\n",
    "La ventaja de usar esta metodología de frecuencias frente a la de conteos es que pondera la participación de las palabras individualmente en cada observación, lo que hará que mejore la significancia de las relaciones que no son tan evidentes, pues tratara cada documento (Observación) por separado dándole más importancia a palabras únicas de este. Una desventaja puede ser que algunas palabras que son importantes y aparecen mucho en el texto pueden llegar a perder la importancia dentro del modelo a esto se hace referencia en la frecuencia inversa de documentos."
   ]
  },
  {
   "cell_type": "markdown",
   "metadata": {},
   "source": [
    "## Punto 4 - Tokenización con TfidfVectorizer\n",
    "\n",
    "En la celda 4 creen y entrenen el mismo modelo de regresión del primer punto, para que prediga la probabilidad de que un comentario sea tóxico, usando los set de entrenamiento y test definidos anteriormente. Procesen los comentarios con la función **TfidfVectorizer** y presenten el desempeño del modelo con la métrica del MSE.\n",
    "\n",
    "Recuerden que el preprocesamiento que se haga sobre los datos de entrenamiento  (*.fit_transform()*) deben ser aplicado al set de test (*.transform()*)."
   ]
  },
  {
   "cell_type": "code",
   "execution_count": 10,
   "metadata": {},
   "outputs": [],
   "source": [
    "# Celda 4\n",
    "# Vamos a volver todos los datos en minuscula, vamos a quitar palabras en ingles tipo and, them. \n",
    "## tambien vamos a ignorar errores del encoding, quitaremos signos de punturación y esas cosas debido a que estamos en ingles y eso seria un error\n",
    "vect_C = TfidfVectorizer(lowercase = True, decode_error='ignore', strip_accents='ascii',  stop_words='english', ngram_range=(1, 3),\n",
    "                        max_features = 800)\n",
    "X_dtm_C = vect_C.fit_transform(X_train)\n",
    "X_dtm_C_test = vect_C.transform(X_test)"
   ]
  },
  {
   "cell_type": "code",
   "execution_count": 11,
   "metadata": {},
   "outputs": [
    {
     "data": {
      "text/plain": [
       "(67000, 1000)"
      ]
     },
     "execution_count": 11,
     "metadata": {},
     "output_type": "execute_result"
    }
   ],
   "source": [
    "# Impresión dimensiones de matriz de documentos donde las filas son documentos y las columnas son términos o tokens\n",
    "X_dtm_C.shape"
   ]
  },
  {
   "cell_type": "code",
   "execution_count": 12,
   "metadata": {},
   "outputs": [
    {
     "name": "stdout",
     "output_type": "stream",
     "text": [
      "['study', 'stuff', 'stupid', 'subject', 'suggest', 'support', 'supported', 'supporters', 'supporting', 'supposed', 'supreme', 'sure', 'surprised', 'suspect', 'taken', 'takes', 'taking', 'talk', 'talking', 'tax', 'taxes', 'taxpayers', 'teachers', 'teaching', 'team', 'tell', 'telling', 'term', 'terms', 'terrorist', 'thank', 'thanks', 'thing', 'things', 'think', 'thinking', 'thinks', 'thought', 'thousands', 'threat', 'time', 'times', 'today', 'told', 'took', 'toronto', 'total', 'totally', 'town', 'trade']\n"
     ]
    }
   ],
   "source": [
    "print(vect_C.get_feature_names()[-150:-100])"
   ]
  },
  {
   "cell_type": "code",
   "execution_count": 13,
   "metadata": {},
   "outputs": [
    {
     "name": "stdout",
     "output_type": "stream",
     "text": [
      "0.03403663375667109\n"
     ]
    }
   ],
   "source": [
    "# Celda 4\n",
    "from sklearn.ensemble import RandomForestRegressor\n",
    "from sklearn.model_selection import cross_val_score\n",
    "import numpy as np\n",
    "\n",
    "# Definición de modelo Random Forest para un problema de clasificación\n",
    "modelo_rf = RandomForestRegressor()\n",
    "# Predicción y desempeño al hacer votación mayoritaria\n",
    "modelo_rf.fit(X_dtm_C, y_train)\n",
    "y_pred = modelo_rf.predict(X_dtm_C_test)\n",
    "\n",
    "modelo3 = metrics.mean_squared_error(y_test, y_pred)\n",
    "print(metrics.mean_squared_error(y_test, y_pred))\n",
    "\n",
    "#nb = MultinomialNB()\n",
    "#pd.Series(cross_val_score(nb, X_dtm_A, y, cv=10)).describe()"
   ]
  },
  {
   "cell_type": "markdown",
   "metadata": {},
   "source": [
    "## Punto 5 - Comparación y análisis de resultados\n",
    "\n",
    "En la celda 5 comparen los resultados obtenidos de los diferentes modelos y comenten cómo el preprocesamiento de texto afecta el desempeño."
   ]
  },
  {
   "cell_type": "code",
   "execution_count": 17,
   "metadata": {
    "scrolled": true
   },
   "outputs": [
    {
     "data": {
      "image/png": "[encoded data removed]",
      "text/plain": [
       "<Figure size 720x288 with 2 Axes>"
      ]
     },
     "metadata": {
      "needs_background": "light"
     },
     "output_type": "display_data"
    }
   ],
   "source": [
    "# Celda 5\n",
    "import matplotlib.pyplot as plt\n",
    "\n",
    "precisions = [modelo1, modelo2, modelo3]\n",
    "\n",
    "fig, ax = plt.subplots(figsize = (10, 4))\n",
    "\n",
    "ax = fig.add_axes([0,0,1,1])\n",
    "ax.set_title(\"precision\")\n",
    "ejeX = ['Modelo1', 'Modelo2 n-triGramas','Modelo3 TfidfVectorizer']\n",
    "ejeY = precisions\n",
    "ejeY = [round(i,3) for i in ejeY]\n",
    "ax.bar(ejeX,ejeY)\n",
    "def addlabels(x,y,plotP):\n",
    "    for i in range(len(x)):\n",
    "        plotP.text(i,y[i],y[i])\n",
    "addlabels(ejeX,ejeY,plt)\n",
    "plt.ylim(0.03, 0.0395)\n",
    "plt.show()"
   ]
  },
  {
   "cell_type": "markdown",
   "metadata": {},
   "source": [
    "Basados en los resultados presentados en la gráfica anterior, se encuentra que el modelo ajustado con la función TfidVectorizer presenta mejores resultados que los modelos ajustados con la metodología de conteos de cantidad de palabras (CountVectorizer). Lo anterior puede estar explicado debido a que ponderar las palabras que presentan importancia para cada observación hace que se ajuste los datos mejor al modelo, encontrando relaciones significativas para cada observación. Por último, es importante procesar los textos para evitar sobre ajuste en el modelo y sesgar los resultados, por ejemplo, es importante estandarizar las palabras tanto mayúsculas como minúsculas para evitar que están sean identificadas como dos casos diferentes ya que esto puede complicar el aprendizaje del modelo. Otro procesamiento que se le debe hacer a la base es eliminar los caracteres especiales o caracteres que no son propios del inglés como lo son la puntuación, signos, números, etc (Esto permite tener una información más limpia y un mejor ajuste). Además, se ignoraron los errores que pueden haber sido generados por un mal encouding, se puede observar en el ajuste de cada modelo usado en este ejercicio."
   ]
  }
 ],
 "metadata": {
  "kernelspec": {
   "display_name": "Python 3",
   "language": "python",
   "name": "python3"
  },
  "language_info": {
   "codemirror_mode": {
    "name": "ipython",
    "version": 3
   },
   "file_extension": ".py",
   "mimetype": "text/x-python",
   "name": "python",
   "nbconvert_exporter": "python",
   "pygments_lexer": "ipython3",
   "version": "3.8.8"
  },
  "name": "_merged"
 },
 "nbformat": 4,
 "nbformat_minor": 4
}
